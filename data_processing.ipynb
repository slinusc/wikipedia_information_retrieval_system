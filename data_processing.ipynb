{
 "cells": [
  {
   "cell_type": "markdown",
   "metadata": {},
   "source": [
    "#### Cross-Encoder\n",
    "\n",
    "\n",
    "Trying the cross-encoder model from sentence-transformers library."
   ]
  },
  {
   "cell_type": "code",
   "execution_count": 12,
   "metadata": {},
   "outputs": [],
   "source": [
    "from transformers import AutoTokenizer, AutoModelForSequenceClassification\n",
    "import torch\n",
    "import warnings\n",
    "\n",
    "# Suppress the specific warning\n",
    "warnings.filterwarnings(\"ignore\", message=\"torch.utils._pytree._register_pytree_node is deprecated\")\n",
    "\n",
    "\n",
    "class DocumentReranker:\n",
    "    def __init__(self, model_name='cross-encoder/ms-marco-TinyBERT-L-2'):\n",
    "        \"\"\"\n",
    "        Initialize the reranker with the specified model and tokenizer.\n",
    "\n",
    "        Parameters:\n",
    "        - model_name (str): Name of the Hugging Face model to use for reranking.\n",
    "        \"\"\"\n",
    "        self.tokenizer = AutoTokenizer.from_pretrained(model_name)\n",
    "        self.model = AutoModelForSequenceClassification.from_pretrained(model_name)\n",
    "        self.model.eval()  # Set the model to evaluation mode\n",
    "\n",
    "    def rerank(self, query, documents):\n",
    "        \"\"\"\n",
    "        Rerank the documents based on similarity scores with the query.\n",
    "\n",
    "        Parameters:\n",
    "        - query (str): The query string.\n",
    "        - documents (list): List of documents to rerank.\n",
    "\n",
    "        Returns:\n",
    "        - list of tuples: A list of (document, score) tuples sorted by score in descending order.\n",
    "        \"\"\"\n",
    "        # Tokenize the query and documents\n",
    "        features = self.tokenizer(\n",
    "            [query] * len(documents),  # Repeat the query for each document\n",
    "            documents,                # List of documents\n",
    "            return_tensors='pt',      # Return tensors\n",
    "            padding=True,             # Pad the sequences\n",
    "            truncation=True           # Truncate sequences that are too long\n",
    "        )\n",
    "\n",
    "        # Compute similarity scores\n",
    "        with torch.no_grad():\n",
    "            scores = self.model(**features).logits.squeeze().tolist()\n",
    "\n",
    "        # Combine documents with their scores\n",
    "        if isinstance(scores, float):  # Handle single-document case\n",
    "            scores = [scores]\n",
    "        scored_documents = list(zip(documents, scores))\n",
    "\n",
    "        # Sort the documents by score in descending order\n",
    "        ranked_documents = sorted(scored_documents, key=lambda x: x[1], reverse=True)\n",
    "\n",
    "        return ranked_documents"
   ]
  },
  {
   "cell_type": "code",
   "execution_count": 13,
   "metadata": {},
   "outputs": [
    {
     "name": "stdout",
     "output_type": "stream",
     "text": [
      "Reranked Documents:\n",
      "1. Score: 2.8781\n",
      "   Document: John of Gaunt's brother Edmund of Langley was only one year younger, but it has been suggested that this prince was of 'limited ability', and he took less part in government than Gaunt did. It has been speculated that the whole incident surrounding the killing of Wat Tyler was planned in advance by the council, to end the rebellion. While both England and the Empire supported Pope Urban VI in Rome, the French sided with the Avignon Papacy of Clement VII. This 'appeal'—which would give its name to the Lords Appellant—was not an appeal in the modern sense but a criminal charge, often one of treason.\n",
      "\n",
      "2. Score: -6.0335\n",
      "   Document: External links Richard II's Treasure from the Institute of Historical Research and Royal Holloway, University of London. Richard II's Irish chancery rolls listed by year, translated, published online by CIRCLE. The Peasants' Revolt, BBC Radio 4 discussion with Miri Rubin, Caroline Barron & Alastair Dunn (In Our Time, 16 November 2006) |- 1367 births 1400 deaths 14th-century English monarchs 14th-century murdered monarchs 14th-century English nobility Burials at Westminster Abbey Deaths by starvation Dukes of Cornwall English people of French descent English pretenders to the French throne English Roman Catholics House of Plantagenet Knights of the Garter Medieval child rulers Monarchs who abdicated Peasants' Revolt People from Bordeaux Princes of Wales Prisoners in the Tower of London Peers created by Edward III Children of Edward the Black Prince\n",
      "\n",
      "3. Score: -6.9176\n",
      "   Document: References Sources Chronicles (1993) Chronicles of the Revolution, 1397–1400: The Reign of Richard II, ed. Chris Given-Wilson. Manchester: Manchester University Press. Froissart, Jean (1978). Chronicles, ed. Geoffrey Brereton. London: Penguin. Historia Vitae et Regni Ricardi Secundi, ed. George B. Stow. Philadelphia: University of Pennsylvania Press. Knighton, Henry (1995). Knighton's Chronicle 1337–1396, ed. G. H. Martin. Oxford: Clarendon Press. Walsingham, Thomas (1862–64). Historia Anglicana 2 vols., ed. Henry Thomas Riley. London: Longman, Roberts, and Green.\n",
      "\n"
     ]
    }
   ],
   "source": [
    "reranker = DocumentReranker()\n",
    "\n",
    "# Define the query and documents\n",
    "query = \"Who was John of Gaunt's brother, and what was his role in government?\"\n",
    "documents = [\n",
    "    \"External links Richard II's Treasure from the Institute of Historical Research and Royal Holloway, University of London. Richard II's Irish chancery rolls listed by year, translated, published online by CIRCLE. The Peasants' Revolt, BBC Radio 4 discussion with Miri Rubin, Caroline Barron & Alastair Dunn (In Our Time, 16 November 2006) |- 1367 births 1400 deaths 14th-century English monarchs 14th-century murdered monarchs 14th-century English nobility Burials at Westminster Abbey Deaths by starvation Dukes of Cornwall English people of French descent English pretenders to the French throne English Roman Catholics House of Plantagenet Knights of the Garter Medieval child rulers Monarchs who abdicated Peasants' Revolt People from Bordeaux Princes of Wales Prisoners in the Tower of London Peers created by Edward III Children of Edward the Black Prince\",\n",
    "    \"References Sources Chronicles (1993) Chronicles of the Revolution, 1397–1400: The Reign of Richard II, ed. Chris Given-Wilson. Manchester: Manchester University Press. Froissart, Jean (1978). Chronicles, ed. Geoffrey Brereton. London: Penguin. Historia Vitae et Regni Ricardi Secundi, ed. George B. Stow. Philadelphia: University of Pennsylvania Press. Knighton, Henry (1995). Knighton's Chronicle 1337–1396, ed. G. H. Martin. Oxford: Clarendon Press. Walsingham, Thomas (1862–64). Historia Anglicana 2 vols., ed. Henry Thomas Riley. London: Longman, Roberts, and Green.\",\n",
    "    \"John of Gaunt's brother Edmund of Langley was only one year younger, but it has been suggested that this prince was of 'limited ability', and he took less part in government than Gaunt did. It has been speculated that the whole incident surrounding the killing of Wat Tyler was planned in advance by the council, to end the rebellion. While both England and the Empire supported Pope Urban VI in Rome, the French sided with the Avignon Papacy of Clement VII. This 'appeal'—which would give its name to the Lords Appellant—was not an appeal in the modern sense but a criminal charge, often one of treason.\"\n",
    "]\n",
    "\n",
    "# Rerank the documents\n",
    "ranked_documents = reranker.rerank(query, documents)\n",
    "\n",
    "# Display the ranked documents\n",
    "print(\"Reranked Documents:\")\n",
    "for idx, (doc, score) in enumerate(ranked_documents, start=1):\n",
    "    print(f\"{idx}. Score: {score:.4f}\")\n",
    "    print(f\"   Document: {doc}\\n\")"
   ]
  },
  {
   "cell_type": "code",
   "execution_count": null,
   "metadata": {},
   "outputs": [
    {
     "name": "stdout",
     "output_type": "stream",
     "text": [
      "The first document has the similarity score: -6.033543109893799\n",
      "The second document has the similarity score: -6.910589694976807\n",
      "The third document has the similarity score: 2.7864646911621094\n",
      "The document with the highest similarity score is document 3 with a score of 2.79\n"
     ]
    }
   ],
   "source": [
    "from transformers import AutoTokenizer, AutoModelForSequenceClassification\n",
    "import torch\n",
    "\n",
    "model = AutoModelForSequenceClassification.from_pretrained('cross-encoder/ms-marco-TinyBERT-L-2')\n",
    "tokenizer = AutoTokenizer.from_pretrained('cross-encoder/ms-marco-TinyBERT-L-2')\n",
    "\n",
    "features = tokenizer([\"Who was John of Gaunt's brother, and what was his role in government?\", \"Who was John of Gaunt's brother, and what was his role in government?\", \"Who was John of Gaunt's brother, and what was his role in government?\"],\n",
    "                     [\"External links Richard II's Treasure from the Institute of Historical Research and Royal Holloway, University of London. Richard II's Irish chancery rolls listed by year, translated, published online by CIRCLE. The Peasants' Revolt, BBC Radio 4 discussion with Miri Rubin, Caroline Barron & Alastair Dunn (In Our Time, 16 November 2006) |- 1367 births 1400 deaths 14th-century English monarchs 14th-century murdered monarchs 14th-century English nobility Burials at Westminster Abbey Deaths by starvation Dukes of Cornwall English people of French descent English pretenders to the French throne English Roman Catholics House of Plantagenet Knights of the Garter Medieval child rulers Monarchs who abdicated Peasants' Revolt People from Bordeaux Princes of Wales Prisoners in the Tower of London Peers created by Edward III Children of Edward the Black Prince\", \n",
    "                      \"References Sources Chronicles (1993) Chronicles of the Revolution, 1397\\u20131400: The Reign of Richard II, ed. Chris Given-Wilson. Manchester: Manchester University Press. . Froissart, Jean (1978). Chronicles, ed. Geoffrey Brereton. London: Penguin. . (1977) Historia Vitae et Regni Ricardi Secundi, ed. George B. Stow. Philadelphia: University of Pennsylvania Press. . Knighton, Henry (1995). Knighton's Chronicle 1337\\u20131396, ed. G. H. Martin. Oxford: Clarendon Press. . Walsingham, Thomas (1862\\u201364). Historia Anglicana 2 vols., ed. Henry Thomas Riley. London: Longman, Roberts, and Green Secondary sources Alexander, Jonathan; Binski, Paul (eds.) (1987). Age of Chivalry, Art in Plantagenet England, 1200\\u20131400. London: Royal Academy/Weidenfeld & Nicolson. Levey, Michael (1971). Painting at Court. London: Weidenfeld and Nicolson. External links\", \n",
    "                      \"John of Gaunt's brother Edmund of Langley was only one year younger, but it has been suggested that this prince was of \\\"limited ability\\\", and he took less part in government than Gaunt did. b. It has been speculated that the whole incident surrounding the killing of Wat Tyler was in fact planned in advance by the council, in order to end the rebellion. c. While both England and the Empire supported Pope Urban VI in Rome, the French sided with the Avignon Papacy of Clement VII. d. This \\\"appeal\\\"which would give its name to the Lords Appellantwas not an appeal in the modern sense of an application to a higher authority. In medieval common law the appeal was criminal charge, often one of treason.\"],\n",
    "                      return_tensors='pt', padding=True)\n",
    "\n",
    "model.eval()\n",
    "with torch.no_grad():\n",
    "    scores = model(**features).logits\n",
    "    print(\"The first document has the similarity score:\", scores[0][0].item())\n",
    "    print(\"The second document has the similarity score:\", scores[1][0].item())\n",
    "    print(\"The third document has the similarity score:\", scores[2][0].item())\n",
    "\n",
    "# determine the highest similarity score and wich document it belongs to\n",
    "\n",
    "similarity_scores = [scores[0][0].item(), scores[1][0].item(), scores[2][0].item()]\n",
    "max_score = max(similarity_scores)\n",
    "max_score_index = similarity_scores.index(max_score)\n",
    "\n",
    "print(f\"The document with the highest similarity score is document {max_score_index + 1} with a score of {max_score:.2f}\")"
   ]
  },
  {
   "cell_type": "markdown",
   "metadata": {},
   "source": [
    "#### ElastikSearch\n",
    "\n",
    "Using the ElastikSearch to search the most similar documents to the query based on bm25 similarity."
   ]
  },
  {
   "cell_type": "code",
   "execution_count": null,
   "metadata": {},
   "outputs": [
    {
     "name": "stderr",
     "output_type": "stream",
     "text": [
      "C:\\Users\\linus\\AppData\\Local\\Temp\\ipykernel_7600\\1238121920.py:13: ElasticsearchWarning: Elasticsearch built-in security features are not enabled. Without authentication, your cluster could be accessible to anyone. See https://www.elastic.co/guide/en/elasticsearch/reference/7.17/security-minimal-setup.html to enable security.\n",
      "  if es.ping():\n"
     ]
    },
    {
     "name": "stdout",
     "output_type": "stream",
     "text": [
      "Connected to Elasticsearch cluster successfully!\n"
     ]
    },
    {
     "name": "stderr",
     "output_type": "stream",
     "text": [
      "C:\\Users\\linus\\AppData\\Local\\Temp\\ipykernel_7600\\1238121920.py:26: ElasticsearchWarning: Elasticsearch built-in security features are not enabled. Without authentication, your cluster could be accessible to anyone. See https://www.elastic.co/guide/en/elasticsearch/reference/7.17/security-minimal-setup.html to enable security.\n",
      "  es.index(index=index_name, body=row.to_dict())\n"
     ]
    }
   ],
   "source": [
    "from elasticsearch import Elasticsearch\n",
    "import pyarrow.parquet as pq\n",
    "\n",
    "# Create a connection to the Elasticsearch cluster\n",
    "es = Elasticsearch([\n",
    "    {'host': 'localhost', 'port': 9200, 'scheme': 'http'},  # Replace 'localhost' with the actual IP if running on a different machine\n",
    "    {'host': 'es-node2', 'port': 9200, 'scheme': 'http'},\n",
    "    {'host': 'es-node3', 'port': 9200, 'scheme': 'http'},\n",
    "    {'host': 'es-node4', 'port': 9200, 'scheme': 'http'}\n",
    "])\n",
    "\n",
    "# Check if the connection was successful\n",
    "if es.ping():\n",
    "    print(\"Connected to Elasticsearch cluster successfully!\")\n",
    "else:\n",
    "    print(\"Could not connect to Elasticsearch cluster.\")\n",
    "\n",
    "# Load a Parquet file\n",
    "def load_parquet_to_es(file_path, index_name):\n",
    "    # Read the Parquet file\n",
    "    table = pq.read_table(file_path)\n",
    "    df = table.to_pandas()\n",
    "\n",
    "    # Index each row in Elasticsearch\n",
    "    for _, row in df.iterrows():\n",
    "        es.index(index=index_name, body=row.to_dict())\n",
    "\n",
    "# Load a test Parquet file into Elasticsearch\n",
    "test_parquet_file = \"C:/Users/linus/Downloads/wikipedia_corpus/a.parquet\"\n",
    "load_parquet_to_es(test_parquet_file, 'test_index')\n",
    "\n",
    "# Example search query\n",
    "response = es.search(\n",
    "    index=\"wikipedia\",  # Replace with your actual index name\n",
    "    body={\n",
    "        \"query\": {\n",
    "            \"match_all\": {}\n",
    "        }\n",
    "    }\n",
    ")\n",
    "\n",
    "# Print the search results\n",
    "print(\"Search Results:\")\n",
    "for hit in response['hits']['hits']:\n",
    "    print(f\"ID: {hit['_id']}, Source: {hit['_source']}\")"
   ]
  },
  {
   "cell_type": "markdown",
   "metadata": {},
   "source": [
    "#### Bi-Encoder\n",
    "\n",
    "Using FAISS to search the most similar documents to the query based on cosine similarity. The class FAISSSearch is used to search the most similar documents to the query based on cosine similarity."
   ]
  },
  {
   "cell_type": "code",
   "execution_count": 1,
   "metadata": {},
   "outputs": [],
   "source": [
    "import requests\n",
    "import pandas as pd\n",
    "\n",
    "class FAISSSearcher:\n",
    "    def __init__(self):\n",
    "        \"\"\"\n",
    "        Initialize the FAISSSearcher class.\n",
    "\n",
    "        Parameters:\n",
    "        - api_url (str): The URL of the FAISS API endpoint.\n",
    "        - parquet_file_path (str): Path to the Parquet file containing the Wikipedia corpus.\n",
    "        \"\"\"\n",
    "        self.api_url = \"http://localhost:8000/search\"\n",
    "        self.parquet_file_path = \"../data/wiki_2023_index.parquet\"\n",
    "        self.df = self.load_parquet_file()\n",
    "\n",
    "    def load_parquet_file(self):\n",
    "        \"\"\"\n",
    "        Load the Parquet file containing the Wikipedia corpus into a DataFrame.\n",
    "\n",
    "        Returns:\n",
    "        - DataFrame: The loaded DataFrame.\n",
    "        \"\"\"\n",
    "        try:\n",
    "            df = pd.read_parquet(self.parquet_file_path)\n",
    "            print(\"Parquet file loaded successfully!\")\n",
    "            return df\n",
    "        except Exception as e:\n",
    "            print(f\"An error occurred while loading the Parquet file: {e}\")\n",
    "            raise\n",
    "\n",
    "    def search(self, query, top_k=5):\n",
    "        \"\"\"\n",
    "        Perform a search on the FAISS API and retrieve the relevant articles.\n",
    "\n",
    "        Parameters:\n",
    "        - query (str): The query string to search for.\n",
    "        - top_k (int): The number of top results to fetch.\n",
    "\n",
    "        Returns:\n",
    "        - DataFrame: A DataFrame containing the relevant articles.\n",
    "        \"\"\"\n",
    "        # Parameters for the search\n",
    "        params = {\n",
    "            \"query\": query,\n",
    "            \"top_k\": top_k\n",
    "        }\n",
    "\n",
    "        # Make a GET request to the API\n",
    "        response = requests.get(self.api_url, params=params)\n",
    "\n",
    "        # Check if the request was successful\n",
    "        if response.status_code == 200:\n",
    "            results = response.json()            \n",
    "            faiss_indices = [result['index'] for result in results['results']]\n",
    "\n",
    "            # Retrieve the rows corresponding to the FAISS indices\n",
    "            relevant_articles = self.df.iloc[faiss_indices]\n",
    "            \n",
    "            return relevant_articles\n",
    "        else:\n",
    "            print(f\"Error: {response.status_code}\")\n",
    "            print(response.text)\n",
    "            return None"
   ]
  },
  {
   "cell_type": "code",
   "execution_count": 2,
   "metadata": {},
   "outputs": [
    {
     "name": "stdout",
     "output_type": "stream",
     "text": [
      "Parquet file loaded successfully!\n"
     ]
    }
   ],
   "source": [
    "# Create a FAISSSearcher instance\n",
    "searcher = FAISSSearcher()"
   ]
  },
  {
   "cell_type": "markdown",
   "metadata": {},
   "source": [
    "#### Evaluation\n",
    "\n",
    "Evaluating the models using the NQ dataset for open-domain question answering"
   ]
  },
  {
   "cell_type": "code",
   "execution_count": 18,
   "metadata": {},
   "outputs": [],
   "source": [
    "import pandas as pd\n",
    "import json\n",
    "\n",
    "# Path to the JSON Lines (.jsonl) file\n",
    "file_path = \"../data/nq-dev-all.jsonl\"\n",
    "\n",
    "# Read and parse the first 10 lines of the file\n",
    "lines = []\n",
    "with open(file_path, 'r') as f:\n",
    "    for i in range(10):  # Read the first 10 lines\n",
    "        line = f.readline()\n",
    "        if not line:  # Break if fewer than 10 lines exist\n",
    "            break\n",
    "        lines.append(json.loads(line))\n",
    "\n",
    "# Convert the list of dictionaries into a Pandas DataFrame\n",
    "questions = pd.DataFrame(lines)\n",
    "\n",
    "test_questions = questions[[\"document_title\", \"question_text\"]]"
   ]
  },
  {
   "cell_type": "code",
   "execution_count": 19,
   "metadata": {},
   "outputs": [
    {
     "name": "stdout",
     "output_type": "stream",
     "text": [
      "5 Documents retrieved, percentage of correct documents: 60.00%\n",
      "10 Documents retrieved, percentage of correct documents: 60.00%\n",
      "100 Documents retrieved, percentage of correct documents: 60.00%\n",
      "1000 Documents retrieved, percentage of correct documents: 70.00%\n",
      "10000 Documents retrieved, percentage of correct documents: 90.00%\n"
     ]
    }
   ],
   "source": [
    "count = 0\n",
    "\n",
    "for i in [5, 10, 100, 1000, 10000]:\n",
    "    count = 0  # Reset count for each `i`\n",
    "    for j in range(len(test_questions)):\n",
    "        # Example query\n",
    "        query = test_questions.iloc[j][\"question_text\"]\n",
    "        doc_title = test_questions.iloc[j][\"document_title\"]\n",
    "\n",
    "        # Perform the search and retrieve relevant articles\n",
    "        relevant_articles = searcher.search(query, top_k=i)\n",
    "\n",
    "        # Ensure `relevant_articles` is not empty and has the `title` column\n",
    "        if relevant_articles is not None and \"title\" in relevant_articles.columns:\n",
    "            if doc_title in list(relevant_articles[\"title\"]):\n",
    "                count += 1\n",
    "        else:\n",
    "            print(f\"Warning: No relevant articles found or missing 'title' column for query: {query}\")\n",
    "\n",
    "    print(f\"{i} Documents retrieved, percentage of correct documents: {count / len(test_questions) * 100:.2f}%\")"
   ]
  },
  {
   "cell_type": "code",
   "execution_count": 15,
   "metadata": {},
   "outputs": [
    {
     "name": "stdout",
     "output_type": "stream",
     "text": [
      "5 Documents retrieved:\n",
      "  Percentage of correct documents at position 1: 50.00%\n",
      "  Time taken: 11.49 seconds\n",
      "10 Documents retrieved:\n",
      "  Percentage of correct documents at position 1: 40.00%\n",
      "  Time taken: 10.28 seconds\n",
      "100 Documents retrieved:\n",
      "  Percentage of correct documents at position 1: 20.00%\n",
      "  Time taken: 10.19 seconds\n",
      "1000 Documents retrieved:\n",
      "  Percentage of correct documents at position 1: 20.00%\n",
      "  Time taken: 13.33 seconds\n",
      "10000 Documents retrieved:\n",
      "  Percentage of correct documents at position 1: 10.00%\n",
      "  Time taken: 90.37 seconds\n",
      "Total validation time: 135.67 seconds\n"
     ]
    }
   ],
   "source": [
    "import time\n",
    "\n",
    "# Initialize counters\n",
    "count_correct_at_top = 0\n",
    "total_queries = len(test_questions)\n",
    "\n",
    "# Measure time for the entire validation\n",
    "start_time = time.time()\n",
    "\n",
    "for i in [5, 10, 100, 1000, 10000]:\n",
    "    count_correct_at_top = 0  # Reset count for each `i`\n",
    "    \n",
    "    # Start time for this batch\n",
    "    batch_start_time = time.time()\n",
    "\n",
    "    for j in range(total_queries):\n",
    "        # Example query\n",
    "        query = test_questions.iloc[j][\"question_text\"]\n",
    "        doc_title = test_questions.iloc[j][\"document_title\"]\n",
    "\n",
    "        # Perform the search and retrieve relevant articles\n",
    "        relevant_articles = searcher.search(query, top_k=i)\n",
    "\n",
    "        # Ensure `relevant_articles` is not empty and has the `title` column\n",
    "        if relevant_articles is not None and \"title\" in relevant_articles.columns:\n",
    "            # Rerank the retrieved articles\n",
    "            reranked_articles = reranker.rerank(query, list(relevant_articles[\"title\"]))\n",
    "\n",
    "            # Check if the correct document is at the top\n",
    "            if reranked_articles[0][0] == doc_title:\n",
    "                count_correct_at_top += 1\n",
    "        else:\n",
    "            print(f\"Warning: No relevant articles found or missing 'title' column for query: {query}\")\n",
    "\n",
    "    # Calculate time for this batch\n",
    "    batch_time = time.time() - batch_start_time\n",
    "\n",
    "    # Print results for this batch\n",
    "    print(f\"{i} Documents retrieved:\")\n",
    "    print(f\"  Percentage of correct documents at position 1: {count_correct_at_top / total_queries * 100:.2f}%\")\n",
    "    print(f\"  Time taken: {batch_time:.2f} seconds\")\n",
    "\n",
    "# Total time for validation\n",
    "total_time = time.time() - start_time\n",
    "print(f\"Total validation time: {total_time:.2f} seconds\")"
   ]
  }
 ],
 "metadata": {
  "kernelspec": {
   "display_name": "base",
   "language": "python",
   "name": "python3"
  },
  "language_info": {
   "codemirror_mode": {
    "name": "ipython",
    "version": 3
   },
   "file_extension": ".py",
   "mimetype": "text/x-python",
   "name": "python",
   "nbconvert_exporter": "python",
   "pygments_lexer": "ipython3",
   "version": "3.11.5"
  }
 },
 "nbformat": 4,
 "nbformat_minor": 2
}
