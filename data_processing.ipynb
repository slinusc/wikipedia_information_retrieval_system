{
 "cells": [
  {
   "cell_type": "code",
   "execution_count": null,
   "metadata": {},
   "outputs": [
    {
     "name": "stdout",
     "output_type": "stream",
     "text": [
      "The first document has the similarity score: -6.033543109893799\n",
      "The second document has the similarity score: -6.910589694976807\n",
      "The third document has the similarity score: 2.7864646911621094\n",
      "The document with the highest similarity score is document 3 with a score of 2.79\n"
     ]
    }
   ],
   "source": [
    "from transformers import AutoTokenizer, AutoModelForSequenceClassification\n",
    "import torch\n",
    "\n",
    "model = AutoModelForSequenceClassification.from_pretrained('cross-encoder/ms-marco-TinyBERT-L-2')\n",
    "tokenizer = AutoTokenizer.from_pretrained('cross-encoder/ms-marco-TinyBERT-L-2')\n",
    "\n",
    "features = tokenizer([\"Who was John of Gaunt's brother, and what was his role in government?\", \"Who was John of Gaunt's brother, and what was his role in government?\", \"Who was John of Gaunt's brother, and what was his role in government?\"],\n",
    "                     [\"External links Richard II's Treasure from the Institute of Historical Research and Royal Holloway, University of London. Richard II's Irish chancery rolls listed by year, translated, published online by CIRCLE. The Peasants' Revolt, BBC Radio 4 discussion with Miri Rubin, Caroline Barron & Alastair Dunn (In Our Time, 16 November 2006) |- 1367 births 1400 deaths 14th-century English monarchs 14th-century murdered monarchs 14th-century English nobility Burials at Westminster Abbey Deaths by starvation Dukes of Cornwall English people of French descent English pretenders to the French throne English Roman Catholics House of Plantagenet Knights of the Garter Medieval child rulers Monarchs who abdicated Peasants' Revolt People from Bordeaux Princes of Wales Prisoners in the Tower of London Peers created by Edward III Children of Edward the Black Prince\", \n",
    "                      \"References Sources Chronicles (1993) Chronicles of the Revolution, 1397\\u20131400: The Reign of Richard II, ed. Chris Given-Wilson. Manchester: Manchester University Press. . Froissart, Jean (1978). Chronicles, ed. Geoffrey Brereton. London: Penguin. . (1977) Historia Vitae et Regni Ricardi Secundi, ed. George B. Stow. Philadelphia: University of Pennsylvania Press. . Knighton, Henry (1995). Knighton's Chronicle 1337\\u20131396, ed. G. H. Martin. Oxford: Clarendon Press. . Walsingham, Thomas (1862\\u201364). Historia Anglicana 2 vols., ed. Henry Thomas Riley. London: Longman, Roberts, and Green Secondary sources Alexander, Jonathan; Binski, Paul (eds.) (1987). Age of Chivalry, Art in Plantagenet England, 1200\\u20131400. London: Royal Academy/Weidenfeld & Nicolson. Levey, Michael (1971). Painting at Court. London: Weidenfeld and Nicolson. External links\", \n",
    "                      \"John of Gaunt's brother Edmund of Langley was only one year younger, but it has been suggested that this prince was of \\\"limited ability\\\", and he took less part in government than Gaunt did. b. It has been speculated that the whole incident surrounding the killing of Wat Tyler was in fact planned in advance by the council, in order to end the rebellion. c. While both England and the Empire supported Pope Urban VI in Rome, the French sided with the Avignon Papacy of Clement VII. d. This \\\"appeal\\\"which would give its name to the Lords Appellantwas not an appeal in the modern sense of an application to a higher authority. In medieval common law the appeal was criminal charge, often one of treason.\"],\n",
    "                      return_tensors='pt', padding=True)\n",
    "\n",
    "model.eval()\n",
    "with torch.no_grad():\n",
    "    scores = model(**features).logits\n",
    "    print(\"The first document has the similarity score:\", scores[0][0].item())\n",
    "    print(\"The second document has the similarity score:\", scores[1][0].item())\n",
    "    print(\"The third document has the similarity score:\", scores[2][0].item())\n",
    "\n",
    "# determine the highest similarity score and wich document it belongs to\n",
    "\n",
    "similarity_scores = [scores[0][0].item(), scores[1][0].item(), scores[2][0].item()]\n",
    "max_score = max(similarity_scores)\n",
    "max_score_index = similarity_scores.index(max_score)\n",
    "\n",
    "print(f\"The document with the highest similarity score is document {max_score_index + 1} with a score of {max_score:.2f}\")"
   ]
  },
  {
   "cell_type": "code",
   "execution_count": 14,
   "metadata": {},
   "outputs": [],
   "source": [
    "# open parquet file\n",
    "\n",
    "import pandas as pd\n",
    "\n",
    "# Load the data from the Parquet file\n",
    "\n",
    "df = pd.read_parquet(\"C:/Users/linus/Downloads/a.parquet/a.parquet\")"
   ]
  },
  {
   "cell_type": "code",
   "execution_count": 23,
   "metadata": {},
   "outputs": [
    {
     "data": {
      "text/html": [
       "<div>\n",
       "<style scoped>\n",
       "    .dataframe tbody tr th:only-of-type {\n",
       "        vertical-align: middle;\n",
       "    }\n",
       "\n",
       "    .dataframe tbody tr th {\n",
       "        vertical-align: top;\n",
       "    }\n",
       "\n",
       "    .dataframe thead th {\n",
       "        text-align: right;\n",
       "    }\n",
       "</style>\n",
       "<table border=\"1\" class=\"dataframe\">\n",
       "  <thead>\n",
       "    <tr style=\"text-align: right;\">\n",
       "      <th></th>\n",
       "      <th>id</th>\n",
       "      <th>title</th>\n",
       "      <th>text</th>\n",
       "      <th>categories</th>\n",
       "    </tr>\n",
       "  </thead>\n",
       "  <tbody>\n",
       "    <tr>\n",
       "      <th>442721</th>\n",
       "      <td>73426511</td>\n",
       "      <td>A‘ea‘e (group)</td>\n",
       "      <td>A‘ea‘e is a Hawaiian music group composed of K...</td>\n",
       "      <td>[Hawaiian music, 2022 in music]</td>\n",
       "    </tr>\n",
       "    <tr>\n",
       "      <th>442722</th>\n",
       "      <td>15845764</td>\n",
       "      <td>A∞-operad</td>\n",
       "      <td>In the theory of operads in algebra and algebr...</td>\n",
       "      <td>[Abstract algebra, Algebraic topology]</td>\n",
       "    </tr>\n",
       "    <tr>\n",
       "      <th>442723</th>\n",
       "      <td>15156877</td>\n",
       "      <td>A♭ (musical note)</td>\n",
       "      <td>A (A-flat; also called la bémol) is the ninth ...</td>\n",
       "      <td>[Musical notes]</td>\n",
       "    </tr>\n",
       "    <tr>\n",
       "      <th>442724</th>\n",
       "      <td>2994338</td>\n",
       "      <td>A♯ (Axiom)</td>\n",
       "      <td>A♯ (pronounced: A sharp) is an object-oriented...</td>\n",
       "      <td>[Functional languages, Discontinued programmin...</td>\n",
       "    </tr>\n",
       "    <tr>\n",
       "      <th>442725</th>\n",
       "      <td>22858655</td>\n",
       "      <td>A♯1 Roller Rager</td>\n",
       "      <td>\"A#1 Roller Rager\" is a song by American rock ...</td>\n",
       "      <td>[2009 singles, CKY (band) songs, 2009 songs, R...</td>\n",
       "    </tr>\n",
       "  </tbody>\n",
       "</table>\n",
       "</div>"
      ],
      "text/plain": [
       "              id              title  \\\n",
       "442721  73426511     A‘ea‘e (group)   \n",
       "442722  15845764          A∞-operad   \n",
       "442723  15156877  A♭ (musical note)   \n",
       "442724   2994338         A♯ (Axiom)   \n",
       "442725  22858655   A♯1 Roller Rager   \n",
       "\n",
       "                                                     text  \\\n",
       "442721  A‘ea‘e is a Hawaiian music group composed of K...   \n",
       "442722  In the theory of operads in algebra and algebr...   \n",
       "442723  A (A-flat; also called la bémol) is the ninth ...   \n",
       "442724  A♯ (pronounced: A sharp) is an object-oriented...   \n",
       "442725  \"A#1 Roller Rager\" is a song by American rock ...   \n",
       "\n",
       "                                               categories  \n",
       "442721                    [Hawaiian music, 2022 in music]  \n",
       "442722             [Abstract algebra, Algebraic topology]  \n",
       "442723                                    [Musical notes]  \n",
       "442724  [Functional languages, Discontinued programmin...  \n",
       "442725  [2009 singles, CKY (band) songs, 2009 songs, R...  "
      ]
     },
     "execution_count": 23,
     "metadata": {},
     "output_type": "execute_result"
    }
   ],
   "source": [
    "df.tail()"
   ]
  },
  {
   "cell_type": "code",
   "execution_count": null,
   "metadata": {},
   "outputs": [
    {
     "name": "stderr",
     "output_type": "stream",
     "text": [
      "C:\\Users\\linus\\AppData\\Local\\Temp\\ipykernel_7600\\1238121920.py:13: ElasticsearchWarning: Elasticsearch built-in security features are not enabled. Without authentication, your cluster could be accessible to anyone. See https://www.elastic.co/guide/en/elasticsearch/reference/7.17/security-minimal-setup.html to enable security.\n",
      "  if es.ping():\n"
     ]
    },
    {
     "name": "stdout",
     "output_type": "stream",
     "text": [
      "Connected to Elasticsearch cluster successfully!\n"
     ]
    },
    {
     "name": "stderr",
     "output_type": "stream",
     "text": [
      "C:\\Users\\linus\\AppData\\Local\\Temp\\ipykernel_7600\\1238121920.py:26: ElasticsearchWarning: Elasticsearch built-in security features are not enabled. Without authentication, your cluster could be accessible to anyone. See https://www.elastic.co/guide/en/elasticsearch/reference/7.17/security-minimal-setup.html to enable security.\n",
      "  es.index(index=index_name, body=row.to_dict())\n"
     ]
    }
   ],
   "source": [
    "from elasticsearch import Elasticsearch\n",
    "import pyarrow.parquet as pq\n",
    "\n",
    "# Create a connection to the Elasticsearch cluster\n",
    "es = Elasticsearch([\n",
    "    {'host': 'localhost', 'port': 9200, 'scheme': 'http'},  # Replace 'localhost' with the actual IP if running on a different machine\n",
    "    {'host': 'es-node2', 'port': 9200, 'scheme': 'http'},\n",
    "    {'host': 'es-node3', 'port': 9200, 'scheme': 'http'},\n",
    "    {'host': 'es-node4', 'port': 9200, 'scheme': 'http'}\n",
    "])\n",
    "\n",
    "# Check if the connection was successful\n",
    "if es.ping():\n",
    "    print(\"Connected to Elasticsearch cluster successfully!\")\n",
    "else:\n",
    "    print(\"Could not connect to Elasticsearch cluster.\")\n",
    "\n",
    "# Load a Parquet file\n",
    "def load_parquet_to_es(file_path, index_name):\n",
    "    # Read the Parquet file\n",
    "    table = pq.read_table(file_path)\n",
    "    df = table.to_pandas()\n",
    "\n",
    "    # Index each row in Elasticsearch\n",
    "    for _, row in df.iterrows():\n",
    "        es.index(index=index_name, body=row.to_dict())\n",
    "\n",
    "# Load a test Parquet file into Elasticsearch\n",
    "test_parquet_file = \"C:/Users/linus/Downloads/wikipedia_corpus/a.parquet\"\n",
    "load_parquet_to_es(test_parquet_file, 'test_index')\n",
    "\n",
    "# Example search query\n",
    "response = es.search(\n",
    "    index=\"wikipedia\",  # Replace with your actual index name\n",
    "    body={\n",
    "        \"query\": {\n",
    "            \"match_all\": {}\n",
    "        }\n",
    "    }\n",
    ")\n",
    "\n",
    "# Print the search results\n",
    "print(\"Search Results:\")\n",
    "for hit in response['hits']['hits']:\n",
    "    print(f\"ID: {hit['_id']}, Source: {hit['_source']}\")"
   ]
  }
 ],
 "metadata": {
  "kernelspec": {
   "display_name": "base",
   "language": "python",
   "name": "python3"
  },
  "language_info": {
   "codemirror_mode": {
    "name": "ipython",
    "version": 3
   },
   "file_extension": ".py",
   "mimetype": "text/x-python",
   "name": "python",
   "nbconvert_exporter": "python",
   "pygments_lexer": "ipython3",
   "version": "3.11.5"
  }
 },
 "nbformat": 4,
 "nbformat_minor": 2
}
